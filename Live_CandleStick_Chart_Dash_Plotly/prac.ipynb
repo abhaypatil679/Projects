{
 "cells": [
  {
   "cell_type": "code",
   "execution_count": 1,
   "metadata": {},
   "outputs": [],
   "source": [
    "import yfinance\n",
    "import pandas as pd\n",
    "import plotly.graph_objects as go\n",
    "from dash import Dash,dcc,html,Input,Output"
   ]
  },
  {
   "cell_type": "code",
   "execution_count": 2,
   "metadata": {},
   "outputs": [
    {
     "data": {
      "text/html": [
       "<div>\n",
       "<style scoped>\n",
       "    .dataframe tbody tr th:only-of-type {\n",
       "        vertical-align: middle;\n",
       "    }\n",
       "\n",
       "    .dataframe tbody tr th {\n",
       "        vertical-align: top;\n",
       "    }\n",
       "\n",
       "    .dataframe thead th {\n",
       "        text-align: right;\n",
       "    }\n",
       "</style>\n",
       "<table border=\"1\" class=\"dataframe\">\n",
       "  <thead>\n",
       "    <tr style=\"text-align: right;\">\n",
       "      <th></th>\n",
       "      <th>Open</th>\n",
       "      <th>High</th>\n",
       "      <th>Low</th>\n",
       "      <th>Close</th>\n",
       "      <th>Volume</th>\n",
       "      <th>Dividends</th>\n",
       "      <th>Stock Splits</th>\n",
       "    </tr>\n",
       "    <tr>\n",
       "      <th>Datetime</th>\n",
       "      <th></th>\n",
       "      <th></th>\n",
       "      <th></th>\n",
       "      <th></th>\n",
       "      <th></th>\n",
       "      <th></th>\n",
       "      <th></th>\n",
       "    </tr>\n",
       "  </thead>\n",
       "  <tbody>\n",
       "    <tr>\n",
       "      <th>2022-05-31 09:15:00+05:30</th>\n",
       "      <td>16578.45</td>\n",
       "      <td>16593.55</td>\n",
       "      <td>16554.65</td>\n",
       "      <td>16577.65</td>\n",
       "      <td>0</td>\n",
       "      <td>0</td>\n",
       "      <td>0</td>\n",
       "    </tr>\n",
       "    <tr>\n",
       "      <th>2022-05-31 09:20:00+05:30</th>\n",
       "      <td>16577.75</td>\n",
       "      <td>16581.35</td>\n",
       "      <td>16546.05</td>\n",
       "      <td>16546.05</td>\n",
       "      <td>0</td>\n",
       "      <td>0</td>\n",
       "      <td>0</td>\n",
       "    </tr>\n",
       "    <tr>\n",
       "      <th>2022-05-31 09:25:00+05:30</th>\n",
       "      <td>16546.95</td>\n",
       "      <td>16555.45</td>\n",
       "      <td>16532.00</td>\n",
       "      <td>16543.85</td>\n",
       "      <td>0</td>\n",
       "      <td>0</td>\n",
       "      <td>0</td>\n",
       "    </tr>\n",
       "    <tr>\n",
       "      <th>2022-05-31 09:30:00+05:30</th>\n",
       "      <td>16544.05</td>\n",
       "      <td>16544.05</td>\n",
       "      <td>16522.20</td>\n",
       "      <td>16539.15</td>\n",
       "      <td>0</td>\n",
       "      <td>0</td>\n",
       "      <td>0</td>\n",
       "    </tr>\n",
       "    <tr>\n",
       "      <th>2022-05-31 09:35:00+05:30</th>\n",
       "      <td>16537.95</td>\n",
       "      <td>16547.45</td>\n",
       "      <td>16532.85</td>\n",
       "      <td>16541.40</td>\n",
       "      <td>0</td>\n",
       "      <td>0</td>\n",
       "      <td>0</td>\n",
       "    </tr>\n",
       "  </tbody>\n",
       "</table>\n",
       "</div>"
      ],
      "text/plain": [
       "                               Open      High       Low     Close  Volume  \\\n",
       "Datetime                                                                    \n",
       "2022-05-31 09:15:00+05:30  16578.45  16593.55  16554.65  16577.65       0   \n",
       "2022-05-31 09:20:00+05:30  16577.75  16581.35  16546.05  16546.05       0   \n",
       "2022-05-31 09:25:00+05:30  16546.95  16555.45  16532.00  16543.85       0   \n",
       "2022-05-31 09:30:00+05:30  16544.05  16544.05  16522.20  16539.15       0   \n",
       "2022-05-31 09:35:00+05:30  16537.95  16547.45  16532.85  16541.40       0   \n",
       "\n",
       "                           Dividends  Stock Splits  \n",
       "Datetime                                            \n",
       "2022-05-31 09:15:00+05:30          0             0  \n",
       "2022-05-31 09:20:00+05:30          0             0  \n",
       "2022-05-31 09:25:00+05:30          0             0  \n",
       "2022-05-31 09:30:00+05:30          0             0  \n",
       "2022-05-31 09:35:00+05:30          0             0  "
      ]
     },
     "execution_count": 2,
     "metadata": {},
     "output_type": "execute_result"
    }
   ],
   "source": [
    "nifty = yfinance.Ticker('^NSEI')\n",
    "nifty.info\n",
    "df_nifty = nifty.history(period='1d', interval='5m',rounding=True)\n",
    "df_nifty.head()"
   ]
  },
  {
   "cell_type": "code",
   "execution_count": 24,
   "metadata": {},
   "outputs": [
    {
     "data": {
      "text/plain": [
       "'Tuesday, 31 May 2022'"
      ]
     },
     "execution_count": 24,
     "metadata": {},
     "output_type": "execute_result"
    }
   ],
   "source": [
    "df_nifty.index[0].strftime(\"%A, %d %B %Y\")"
   ]
  },
  {
   "cell_type": "code",
   "execution_count": 4,
   "metadata": {},
   "outputs": [
    {
     "data": {
      "text/plain": [
       "Timedelta('0 days 00:20:00')"
      ]
     },
     "execution_count": 4,
     "metadata": {},
     "output_type": "execute_result"
    }
   ],
   "source": [
    "df_nifty.index[4]-df_nifty.index[0]"
   ]
  },
  {
   "cell_type": "code",
   "execution_count": 5,
   "metadata": {},
   "outputs": [
    {
     "data": {
      "application/vnd.plotly.v1+json": {
       "config": {
        "plotlyServerURL": "https://plot.ly"
       },
       "data": [
        {
         "close": [
          16577.65,
          16546.05,
          16543.85,
          16539.15,
          16541.4,
          16558.85,
          16565.3,
          16569,
          16568.3,
          16584.05,
          16586.1,
          16591.8,
          16582.25,
          16591.05,
          16605.3,
          16623.35,
          16628.45,
          16640.3,
          16635.75,
          16639.1,
          16654.85,
          16656.6,
          16649.65,
          16649.05,
          16642.3,
          16643.3,
          16639.9,
          16639.65,
          16633.4,
          16629.8,
          16621.65,
          16626.4,
          16656.65,
          16658.25,
          16660,
          16658.5,
          16644.45,
          16655.15,
          16659.7,
          16652.05,
          16642.45,
          16635.1,
          16623.55,
          16639.7,
          16632.45,
          16628.95,
          16621.8,
          16619.45,
          16625.4,
          16621.05,
          16621.2,
          16643.8,
          16662.75,
          16655.6,
          16661.6,
          16658,
          16681.05,
          16689,
          16678.45,
          16671.3,
          16669.8,
          16674,
          16675.6,
          16654.85,
          16640.55,
          16652.55,
          16655.5,
          16642.8,
          16637.25,
          16629.65,
          16611.8,
          16585.8,
          16588.2
         ],
         "high": [
          16593.55,
          16581.35,
          16555.45,
          16544.05,
          16547.45,
          16564.75,
          16570.9,
          16571.15,
          16572.65,
          16587.95,
          16591.3,
          16596.9,
          16592.05,
          16592.1,
          16607.05,
          16625.35,
          16629.9,
          16642.5,
          16650.75,
          16641.1,
          16659.6,
          16662.3,
          16657.35,
          16652.95,
          16653.1,
          16656.2,
          16647,
          16647.8,
          16642.6,
          16642.4,
          16632.75,
          16628.35,
          16657.8,
          16670.25,
          16661.4,
          16670.25,
          16659.35,
          16656.9,
          16666.95,
          16663.65,
          16653.55,
          16643.55,
          16636.4,
          16640.75,
          16641.05,
          16641.85,
          16637.45,
          16626.9,
          16641.3,
          16630.15,
          16632.75,
          16645.5,
          16663.55,
          16667.1,
          16667.9,
          16669.5,
          16683.8,
          16689.95,
          16690.65,
          16684.25,
          16678.75,
          16681,
          16679.65,
          16681.8,
          16657.05,
          16653.85,
          16666.8,
          16667.35,
          16648.85,
          16637.5,
          16632.45,
          16611.65,
          16588.2
         ],
         "low": [
          16554.65,
          16546.05,
          16532,
          16522.2,
          16532.85,
          16536,
          16553.05,
          16560.3,
          16560.6,
          16566.3,
          16576.1,
          16583.85,
          16578.65,
          16578.15,
          16585.1,
          16604.55,
          16613.55,
          16627.8,
          16634.2,
          16628.75,
          16639.25,
          16651.35,
          16642.15,
          16643.7,
          16632.6,
          16638.15,
          16635.75,
          16635.9,
          16630.7,
          16627.9,
          16611.05,
          16618.15,
          16626.1,
          16656.25,
          16648.1,
          16654.75,
          16643.85,
          16644.65,
          16654.75,
          16644.2,
          16633.2,
          16624.45,
          16615.5,
          16619.55,
          16627.15,
          16625.9,
          16620.95,
          16601.05,
          16614.95,
          16619.7,
          16619,
          16621.65,
          16643.8,
          16648.45,
          16653.35,
          16657.45,
          16655.8,
          16674.5,
          16671.1,
          16671.15,
          16662.65,
          16666.65,
          16672.25,
          16645.05,
          16639.6,
          16638.6,
          16652.4,
          16641.85,
          16636.7,
          16614.15,
          16599.5,
          16576.05,
          16588.2
         ],
         "open": [
          16578.45,
          16577.75,
          16546.95,
          16544.05,
          16537.95,
          16541.55,
          16558.75,
          16564.5,
          16568.9,
          16568.7,
          16583.8,
          16586.15,
          16591.9,
          16581.8,
          16590.65,
          16605.2,
          16623.35,
          16628.85,
          16640.25,
          16634.95,
          16639.25,
          16655.25,
          16656.55,
          16649.05,
          16648.35,
          16642.45,
          16643.8,
          16639,
          16639.8,
          16633.45,
          16630.05,
          16621.4,
          16626.25,
          16656.75,
          16658.1,
          16660.25,
          16658,
          16644.75,
          16654.8,
          16659.75,
          16651.55,
          16642.6,
          16635.45,
          16624.2,
          16639.25,
          16632.75,
          16629.8,
          16621.55,
          16619.85,
          16625.35,
          16620.95,
          16621.65,
          16643.9,
          16663.35,
          16655.7,
          16660.15,
          16658.35,
          16680.9,
          16688.55,
          16677.9,
          16670.9,
          16670.45,
          16674.3,
          16675.3,
          16655.8,
          16640.6,
          16652.4,
          16656.35,
          16642.85,
          16637.25,
          16630.7,
          16611.4,
          16588.2
         ],
         "type": "candlestick",
         "x": [
          "2022-05-31T09:15:00+05:30",
          "2022-05-31T09:20:00+05:30",
          "2022-05-31T09:25:00+05:30",
          "2022-05-31T09:30:00+05:30",
          "2022-05-31T09:35:00+05:30",
          "2022-05-31T09:40:00+05:30",
          "2022-05-31T09:45:00+05:30",
          "2022-05-31T09:50:00+05:30",
          "2022-05-31T09:55:00+05:30",
          "2022-05-31T10:00:00+05:30",
          "2022-05-31T10:05:00+05:30",
          "2022-05-31T10:10:00+05:30",
          "2022-05-31T10:15:00+05:30",
          "2022-05-31T10:20:00+05:30",
          "2022-05-31T10:25:00+05:30",
          "2022-05-31T10:30:00+05:30",
          "2022-05-31T10:35:00+05:30",
          "2022-05-31T10:40:00+05:30",
          "2022-05-31T10:45:00+05:30",
          "2022-05-31T10:50:00+05:30",
          "2022-05-31T10:55:00+05:30",
          "2022-05-31T11:00:00+05:30",
          "2022-05-31T11:05:00+05:30",
          "2022-05-31T11:10:00+05:30",
          "2022-05-31T11:15:00+05:30",
          "2022-05-31T11:20:00+05:30",
          "2022-05-31T11:25:00+05:30",
          "2022-05-31T11:30:00+05:30",
          "2022-05-31T11:35:00+05:30",
          "2022-05-31T11:40:00+05:30",
          "2022-05-31T11:45:00+05:30",
          "2022-05-31T11:50:00+05:30",
          "2022-05-31T11:55:00+05:30",
          "2022-05-31T12:00:00+05:30",
          "2022-05-31T12:05:00+05:30",
          "2022-05-31T12:10:00+05:30",
          "2022-05-31T12:15:00+05:30",
          "2022-05-31T12:20:00+05:30",
          "2022-05-31T12:25:00+05:30",
          "2022-05-31T12:30:00+05:30",
          "2022-05-31T12:35:00+05:30",
          "2022-05-31T12:40:00+05:30",
          "2022-05-31T12:45:00+05:30",
          "2022-05-31T12:50:00+05:30",
          "2022-05-31T12:55:00+05:30",
          "2022-05-31T13:00:00+05:30",
          "2022-05-31T13:05:00+05:30",
          "2022-05-31T13:10:00+05:30",
          "2022-05-31T13:15:00+05:30",
          "2022-05-31T13:20:00+05:30",
          "2022-05-31T13:25:00+05:30",
          "2022-05-31T13:30:00+05:30",
          "2022-05-31T13:35:00+05:30",
          "2022-05-31T13:40:00+05:30",
          "2022-05-31T13:45:00+05:30",
          "2022-05-31T13:50:00+05:30",
          "2022-05-31T13:55:00+05:30",
          "2022-05-31T14:00:00+05:30",
          "2022-05-31T14:05:00+05:30",
          "2022-05-31T14:10:00+05:30",
          "2022-05-31T14:15:00+05:30",
          "2022-05-31T14:20:00+05:30",
          "2022-05-31T14:25:00+05:30",
          "2022-05-31T14:30:00+05:30",
          "2022-05-31T14:35:00+05:30",
          "2022-05-31T14:40:00+05:30",
          "2022-05-31T14:45:00+05:30",
          "2022-05-31T14:50:00+05:30",
          "2022-05-31T14:55:00+05:30",
          "2022-05-31T15:00:00+05:30",
          "2022-05-31T15:05:00+05:30",
          "2022-05-31T15:10:00+05:30",
          "2022-05-31T15:13:21+05:30"
         ]
        }
       ],
       "layout": {
        "template": {
         "data": {
          "bar": [
           {
            "error_x": {
             "color": "#2a3f5f"
            },
            "error_y": {
             "color": "#2a3f5f"
            },
            "marker": {
             "line": {
              "color": "white",
              "width": 0.5
             },
             "pattern": {
              "fillmode": "overlay",
              "size": 10,
              "solidity": 0.2
             }
            },
            "type": "bar"
           }
          ],
          "barpolar": [
           {
            "marker": {
             "line": {
              "color": "white",
              "width": 0.5
             },
             "pattern": {
              "fillmode": "overlay",
              "size": 10,
              "solidity": 0.2
             }
            },
            "type": "barpolar"
           }
          ],
          "carpet": [
           {
            "aaxis": {
             "endlinecolor": "#2a3f5f",
             "gridcolor": "#C8D4E3",
             "linecolor": "#C8D4E3",
             "minorgridcolor": "#C8D4E3",
             "startlinecolor": "#2a3f5f"
            },
            "baxis": {
             "endlinecolor": "#2a3f5f",
             "gridcolor": "#C8D4E3",
             "linecolor": "#C8D4E3",
             "minorgridcolor": "#C8D4E3",
             "startlinecolor": "#2a3f5f"
            },
            "type": "carpet"
           }
          ],
          "choropleth": [
           {
            "colorbar": {
             "outlinewidth": 0,
             "ticks": ""
            },
            "type": "choropleth"
           }
          ],
          "contour": [
           {
            "colorbar": {
             "outlinewidth": 0,
             "ticks": ""
            },
            "colorscale": [
             [
              0,
              "#0d0887"
             ],
             [
              0.1111111111111111,
              "#46039f"
             ],
             [
              0.2222222222222222,
              "#7201a8"
             ],
             [
              0.3333333333333333,
              "#9c179e"
             ],
             [
              0.4444444444444444,
              "#bd3786"
             ],
             [
              0.5555555555555556,
              "#d8576b"
             ],
             [
              0.6666666666666666,
              "#ed7953"
             ],
             [
              0.7777777777777778,
              "#fb9f3a"
             ],
             [
              0.8888888888888888,
              "#fdca26"
             ],
             [
              1,
              "#f0f921"
             ]
            ],
            "type": "contour"
           }
          ],
          "contourcarpet": [
           {
            "colorbar": {
             "outlinewidth": 0,
             "ticks": ""
            },
            "type": "contourcarpet"
           }
          ],
          "heatmap": [
           {
            "colorbar": {
             "outlinewidth": 0,
             "ticks": ""
            },
            "colorscale": [
             [
              0,
              "#0d0887"
             ],
             [
              0.1111111111111111,
              "#46039f"
             ],
             [
              0.2222222222222222,
              "#7201a8"
             ],
             [
              0.3333333333333333,
              "#9c179e"
             ],
             [
              0.4444444444444444,
              "#bd3786"
             ],
             [
              0.5555555555555556,
              "#d8576b"
             ],
             [
              0.6666666666666666,
              "#ed7953"
             ],
             [
              0.7777777777777778,
              "#fb9f3a"
             ],
             [
              0.8888888888888888,
              "#fdca26"
             ],
             [
              1,
              "#f0f921"
             ]
            ],
            "type": "heatmap"
           }
          ],
          "heatmapgl": [
           {
            "colorbar": {
             "outlinewidth": 0,
             "ticks": ""
            },
            "colorscale": [
             [
              0,
              "#0d0887"
             ],
             [
              0.1111111111111111,
              "#46039f"
             ],
             [
              0.2222222222222222,
              "#7201a8"
             ],
             [
              0.3333333333333333,
              "#9c179e"
             ],
             [
              0.4444444444444444,
              "#bd3786"
             ],
             [
              0.5555555555555556,
              "#d8576b"
             ],
             [
              0.6666666666666666,
              "#ed7953"
             ],
             [
              0.7777777777777778,
              "#fb9f3a"
             ],
             [
              0.8888888888888888,
              "#fdca26"
             ],
             [
              1,
              "#f0f921"
             ]
            ],
            "type": "heatmapgl"
           }
          ],
          "histogram": [
           {
            "marker": {
             "pattern": {
              "fillmode": "overlay",
              "size": 10,
              "solidity": 0.2
             }
            },
            "type": "histogram"
           }
          ],
          "histogram2d": [
           {
            "colorbar": {
             "outlinewidth": 0,
             "ticks": ""
            },
            "colorscale": [
             [
              0,
              "#0d0887"
             ],
             [
              0.1111111111111111,
              "#46039f"
             ],
             [
              0.2222222222222222,
              "#7201a8"
             ],
             [
              0.3333333333333333,
              "#9c179e"
             ],
             [
              0.4444444444444444,
              "#bd3786"
             ],
             [
              0.5555555555555556,
              "#d8576b"
             ],
             [
              0.6666666666666666,
              "#ed7953"
             ],
             [
              0.7777777777777778,
              "#fb9f3a"
             ],
             [
              0.8888888888888888,
              "#fdca26"
             ],
             [
              1,
              "#f0f921"
             ]
            ],
            "type": "histogram2d"
           }
          ],
          "histogram2dcontour": [
           {
            "colorbar": {
             "outlinewidth": 0,
             "ticks": ""
            },
            "colorscale": [
             [
              0,
              "#0d0887"
             ],
             [
              0.1111111111111111,
              "#46039f"
             ],
             [
              0.2222222222222222,
              "#7201a8"
             ],
             [
              0.3333333333333333,
              "#9c179e"
             ],
             [
              0.4444444444444444,
              "#bd3786"
             ],
             [
              0.5555555555555556,
              "#d8576b"
             ],
             [
              0.6666666666666666,
              "#ed7953"
             ],
             [
              0.7777777777777778,
              "#fb9f3a"
             ],
             [
              0.8888888888888888,
              "#fdca26"
             ],
             [
              1,
              "#f0f921"
             ]
            ],
            "type": "histogram2dcontour"
           }
          ],
          "mesh3d": [
           {
            "colorbar": {
             "outlinewidth": 0,
             "ticks": ""
            },
            "type": "mesh3d"
           }
          ],
          "parcoords": [
           {
            "line": {
             "colorbar": {
              "outlinewidth": 0,
              "ticks": ""
             }
            },
            "type": "parcoords"
           }
          ],
          "pie": [
           {
            "automargin": true,
            "type": "pie"
           }
          ],
          "scatter": [
           {
            "marker": {
             "colorbar": {
              "outlinewidth": 0,
              "ticks": ""
             }
            },
            "type": "scatter"
           }
          ],
          "scatter3d": [
           {
            "line": {
             "colorbar": {
              "outlinewidth": 0,
              "ticks": ""
             }
            },
            "marker": {
             "colorbar": {
              "outlinewidth": 0,
              "ticks": ""
             }
            },
            "type": "scatter3d"
           }
          ],
          "scattercarpet": [
           {
            "marker": {
             "colorbar": {
              "outlinewidth": 0,
              "ticks": ""
             }
            },
            "type": "scattercarpet"
           }
          ],
          "scattergeo": [
           {
            "marker": {
             "colorbar": {
              "outlinewidth": 0,
              "ticks": ""
             }
            },
            "type": "scattergeo"
           }
          ],
          "scattergl": [
           {
            "marker": {
             "colorbar": {
              "outlinewidth": 0,
              "ticks": ""
             }
            },
            "type": "scattergl"
           }
          ],
          "scattermapbox": [
           {
            "marker": {
             "colorbar": {
              "outlinewidth": 0,
              "ticks": ""
             }
            },
            "type": "scattermapbox"
           }
          ],
          "scatterpolar": [
           {
            "marker": {
             "colorbar": {
              "outlinewidth": 0,
              "ticks": ""
             }
            },
            "type": "scatterpolar"
           }
          ],
          "scatterpolargl": [
           {
            "marker": {
             "colorbar": {
              "outlinewidth": 0,
              "ticks": ""
             }
            },
            "type": "scatterpolargl"
           }
          ],
          "scatterternary": [
           {
            "marker": {
             "colorbar": {
              "outlinewidth": 0,
              "ticks": ""
             }
            },
            "type": "scatterternary"
           }
          ],
          "surface": [
           {
            "colorbar": {
             "outlinewidth": 0,
             "ticks": ""
            },
            "colorscale": [
             [
              0,
              "#0d0887"
             ],
             [
              0.1111111111111111,
              "#46039f"
             ],
             [
              0.2222222222222222,
              "#7201a8"
             ],
             [
              0.3333333333333333,
              "#9c179e"
             ],
             [
              0.4444444444444444,
              "#bd3786"
             ],
             [
              0.5555555555555556,
              "#d8576b"
             ],
             [
              0.6666666666666666,
              "#ed7953"
             ],
             [
              0.7777777777777778,
              "#fb9f3a"
             ],
             [
              0.8888888888888888,
              "#fdca26"
             ],
             [
              1,
              "#f0f921"
             ]
            ],
            "type": "surface"
           }
          ],
          "table": [
           {
            "cells": {
             "fill": {
              "color": "#EBF0F8"
             },
             "line": {
              "color": "white"
             }
            },
            "header": {
             "fill": {
              "color": "#C8D4E3"
             },
             "line": {
              "color": "white"
             }
            },
            "type": "table"
           }
          ]
         },
         "layout": {
          "annotationdefaults": {
           "arrowcolor": "#2a3f5f",
           "arrowhead": 0,
           "arrowwidth": 1
          },
          "autotypenumbers": "strict",
          "coloraxis": {
           "colorbar": {
            "outlinewidth": 0,
            "ticks": ""
           }
          },
          "colorscale": {
           "diverging": [
            [
             0,
             "#8e0152"
            ],
            [
             0.1,
             "#c51b7d"
            ],
            [
             0.2,
             "#de77ae"
            ],
            [
             0.3,
             "#f1b6da"
            ],
            [
             0.4,
             "#fde0ef"
            ],
            [
             0.5,
             "#f7f7f7"
            ],
            [
             0.6,
             "#e6f5d0"
            ],
            [
             0.7,
             "#b8e186"
            ],
            [
             0.8,
             "#7fbc41"
            ],
            [
             0.9,
             "#4d9221"
            ],
            [
             1,
             "#276419"
            ]
           ],
           "sequential": [
            [
             0,
             "#0d0887"
            ],
            [
             0.1111111111111111,
             "#46039f"
            ],
            [
             0.2222222222222222,
             "#7201a8"
            ],
            [
             0.3333333333333333,
             "#9c179e"
            ],
            [
             0.4444444444444444,
             "#bd3786"
            ],
            [
             0.5555555555555556,
             "#d8576b"
            ],
            [
             0.6666666666666666,
             "#ed7953"
            ],
            [
             0.7777777777777778,
             "#fb9f3a"
            ],
            [
             0.8888888888888888,
             "#fdca26"
            ],
            [
             1,
             "#f0f921"
            ]
           ],
           "sequentialminus": [
            [
             0,
             "#0d0887"
            ],
            [
             0.1111111111111111,
             "#46039f"
            ],
            [
             0.2222222222222222,
             "#7201a8"
            ],
            [
             0.3333333333333333,
             "#9c179e"
            ],
            [
             0.4444444444444444,
             "#bd3786"
            ],
            [
             0.5555555555555556,
             "#d8576b"
            ],
            [
             0.6666666666666666,
             "#ed7953"
            ],
            [
             0.7777777777777778,
             "#fb9f3a"
            ],
            [
             0.8888888888888888,
             "#fdca26"
            ],
            [
             1,
             "#f0f921"
            ]
           ]
          },
          "colorway": [
           "#636efa",
           "#EF553B",
           "#00cc96",
           "#ab63fa",
           "#FFA15A",
           "#19d3f3",
           "#FF6692",
           "#B6E880",
           "#FF97FF",
           "#FECB52"
          ],
          "font": {
           "color": "#2a3f5f"
          },
          "geo": {
           "bgcolor": "white",
           "lakecolor": "white",
           "landcolor": "white",
           "showlakes": true,
           "showland": true,
           "subunitcolor": "#C8D4E3"
          },
          "hoverlabel": {
           "align": "left"
          },
          "hovermode": "closest",
          "mapbox": {
           "style": "light"
          },
          "paper_bgcolor": "white",
          "plot_bgcolor": "white",
          "polar": {
           "angularaxis": {
            "gridcolor": "#EBF0F8",
            "linecolor": "#EBF0F8",
            "ticks": ""
           },
           "bgcolor": "white",
           "radialaxis": {
            "gridcolor": "#EBF0F8",
            "linecolor": "#EBF0F8",
            "ticks": ""
           }
          },
          "scene": {
           "xaxis": {
            "backgroundcolor": "white",
            "gridcolor": "#DFE8F3",
            "gridwidth": 2,
            "linecolor": "#EBF0F8",
            "showbackground": true,
            "ticks": "",
            "zerolinecolor": "#EBF0F8"
           },
           "yaxis": {
            "backgroundcolor": "white",
            "gridcolor": "#DFE8F3",
            "gridwidth": 2,
            "linecolor": "#EBF0F8",
            "showbackground": true,
            "ticks": "",
            "zerolinecolor": "#EBF0F8"
           },
           "zaxis": {
            "backgroundcolor": "white",
            "gridcolor": "#DFE8F3",
            "gridwidth": 2,
            "linecolor": "#EBF0F8",
            "showbackground": true,
            "ticks": "",
            "zerolinecolor": "#EBF0F8"
           }
          },
          "shapedefaults": {
           "line": {
            "color": "#2a3f5f"
           }
          },
          "ternary": {
           "aaxis": {
            "gridcolor": "#DFE8F3",
            "linecolor": "#A2B1C6",
            "ticks": ""
           },
           "baxis": {
            "gridcolor": "#DFE8F3",
            "linecolor": "#A2B1C6",
            "ticks": ""
           },
           "bgcolor": "white",
           "caxis": {
            "gridcolor": "#DFE8F3",
            "linecolor": "#A2B1C6",
            "ticks": ""
           }
          },
          "title": {
           "x": 0.05
          },
          "xaxis": {
           "automargin": true,
           "gridcolor": "#EBF0F8",
           "linecolor": "#EBF0F8",
           "ticks": "",
           "title": {
            "standoff": 15
           },
           "zerolinecolor": "#EBF0F8",
           "zerolinewidth": 2
          },
          "yaxis": {
           "automargin": true,
           "gridcolor": "#EBF0F8",
           "linecolor": "#EBF0F8",
           "ticks": "",
           "title": {
            "standoff": 15
           },
           "zerolinecolor": "#EBF0F8",
           "zerolinewidth": 2
          }
         }
        },
        "title": {
         "text": "NIFTY50"
        },
        "xaxis": {
         "dtick": 1800000,
         "rangeslider": {
          "visible": false
         },
         "tick0": "2022-05-31T09:15:00+05:30",
         "tickmode": "linear"
        }
       }
      }
     },
     "metadata": {},
     "output_type": "display_data"
    }
   ],
   "source": [
    "fig = go.Figure()\n",
    "fig.add_trace(go.Candlestick(x= df_nifty.index, open=df_nifty['Open'], high=df_nifty['High'], low=df_nifty['Low'], close=df_nifty['Close']))\n",
    "fig.update_layout(title='NIFTY50')\n",
    "fig.update_layout(xaxis_rangeslider_visible=False)\n",
    "fig.update_layout(xaxis = dict(tickmode = 'linear', tick0 =df_nifty.index[0], dtick =30*60*1000))\n",
    "fig.update_layout(template='plotly_white')\n",
    "fig.show()\n"
   ]
  }
 ],
 "metadata": {
  "interpreter": {
   "hash": "6e1434c98916a21c7e956c6bbcaa09b72322b2a48758cf786c4dc7ad932dd14d"
  },
  "kernelspec": {
   "display_name": "Python 3.9.9 64-bit",
   "language": "python",
   "name": "python3"
  },
  "language_info": {
   "codemirror_mode": {
    "name": "ipython",
    "version": 3
   },
   "file_extension": ".py",
   "mimetype": "text/x-python",
   "name": "python",
   "nbconvert_exporter": "python",
   "pygments_lexer": "ipython3",
   "version": "3.9.9"
  },
  "orig_nbformat": 4
 },
 "nbformat": 4,
 "nbformat_minor": 2
}
