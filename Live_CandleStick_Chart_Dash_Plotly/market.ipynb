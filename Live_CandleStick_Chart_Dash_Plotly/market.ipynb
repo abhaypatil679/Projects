{
 "cells": [
  {
   "cell_type": "code",
   "execution_count": 1,
   "metadata": {},
   "outputs": [],
   "source": [
    "import yfinance\n",
    "import pandas as pd\n",
    "import plotly.graph_objects as go\n",
    "from dash import Dash,dcc,html,Input,Output"
   ]
  },
  {
   "cell_type": "code",
   "execution_count": 2,
   "metadata": {},
   "outputs": [
    {
     "data": {
      "text/html": [
       "<div>\n",
       "<style scoped>\n",
       "    .dataframe tbody tr th:only-of-type {\n",
       "        vertical-align: middle;\n",
       "    }\n",
       "\n",
       "    .dataframe tbody tr th {\n",
       "        vertical-align: top;\n",
       "    }\n",
       "\n",
       "    .dataframe thead th {\n",
       "        text-align: right;\n",
       "    }\n",
       "</style>\n",
       "<table border=\"1\" class=\"dataframe\">\n",
       "  <thead>\n",
       "    <tr style=\"text-align: right;\">\n",
       "      <th></th>\n",
       "      <th>Ticker</th>\n",
       "      <th>Exchange</th>\n",
       "      <th>Category Name</th>\n",
       "      <th>Country</th>\n",
       "    </tr>\n",
       "    <tr>\n",
       "      <th>Name</th>\n",
       "      <th></th>\n",
       "      <th></th>\n",
       "      <th></th>\n",
       "      <th></th>\n",
       "    </tr>\n",
       "  </thead>\n",
       "  <tbody>\n",
       "    <tr>\n",
       "      <th>20 Microns Limited</th>\n",
       "      <td>20MICRONS.NS</td>\n",
       "      <td>NSE</td>\n",
       "      <td>Industrial Metals &amp; Minerals</td>\n",
       "      <td>India</td>\n",
       "    </tr>\n",
       "    <tr>\n",
       "      <th>3I INFOTECH LTD INR10</th>\n",
       "      <td>3IINFOTECH-EQ.NS</td>\n",
       "      <td>NSE</td>\n",
       "      <td>NaN</td>\n",
       "      <td>India</td>\n",
       "    </tr>\n",
       "    <tr>\n",
       "      <th>3I INFOTECH LTD.</th>\n",
       "      <td>3IINFOTECH-BE.NS</td>\n",
       "      <td>NSE</td>\n",
       "      <td>NaN</td>\n",
       "      <td>India</td>\n",
       "    </tr>\n",
       "    <tr>\n",
       "      <th>3M India Limited</th>\n",
       "      <td>3MINDIA.NS</td>\n",
       "      <td>NSE</td>\n",
       "      <td>Conglomerates</td>\n",
       "      <td>India</td>\n",
       "    </tr>\n",
       "    <tr>\n",
       "      <th>3RD ROCK MULTIMEDI INR10</th>\n",
       "      <td>3RDROCK-EQ.NS</td>\n",
       "      <td>NSE</td>\n",
       "      <td>NaN</td>\n",
       "      <td>India</td>\n",
       "    </tr>\n",
       "  </tbody>\n",
       "</table>\n",
       "</div>"
      ],
      "text/plain": [
       "                                    Ticker Exchange  \\\n",
       "Name                                                  \n",
       "20 Microns Limited            20MICRONS.NS      NSE   \n",
       "3I INFOTECH LTD INR10     3IINFOTECH-EQ.NS      NSE   \n",
       "3I INFOTECH LTD.          3IINFOTECH-BE.NS      NSE   \n",
       "3M India Limited                3MINDIA.NS      NSE   \n",
       "3RD ROCK MULTIMEDI INR10     3RDROCK-EQ.NS      NSE   \n",
       "\n",
       "                                         Category Name Country  \n",
       "Name                                                            \n",
       "20 Microns Limited        Industrial Metals & Minerals   India  \n",
       "3I INFOTECH LTD INR10                              NaN   India  \n",
       "3I INFOTECH LTD.                                   NaN   India  \n",
       "3M India Limited                         Conglomerates   India  \n",
       "3RD ROCK MULTIMEDI INR10                           NaN   India  "
      ]
     },
     "execution_count": 2,
     "metadata": {},
     "output_type": "execute_result"
    }
   ],
   "source": [
    "df = pd.read_csv('./Tickers_info.csv',encoding_errors='ignore')\n",
    "df.sort_values(by='Name',inplace=True)\n",
    "df.set_index('Name', inplace= True)\n",
    "df.head()"
   ]
  },
  {
   "cell_type": "code",
   "execution_count": 3,
   "metadata": {},
   "outputs": [],
   "source": [
    "# nifty = yfinance.Ticker('^NSEI')\n",
    "# nifty.info\n",
    "# df_nifty = nifty.history(period='1d', interval='5m',rounding=True)\n",
    "# df_nifty.head()\n",
    "# fig = go.Figure()\n",
    "# fig.add_trace(go.Candlestick(x= df.index, open=df_nifty['Open'], high=df_nifty['High'], low=df_nifty['Low'], close=df_nifty['Close']))\n",
    "# fig.update_layout(title='NIFTY50')\n",
    "# fig.update_layout(xaxis_rangeslider_visible=False)\n",
    "# fig.show()\n",
    "\n",
    "# fig_line = go.Figure()\n",
    "# fig_line.add_trace(go.Scatter(x=df_nifty.index, y=df_nifty['Close']))\n",
    "# fig_line.update_layout(title='NIFTY50')\n",
    "# fig_line.update_traces(mode = 'lines')\n",
    "# fig_line.show()"
   ]
  },
  {
   "cell_type": "code",
   "execution_count": 4,
   "metadata": {},
   "outputs": [],
   "source": [
    "# df.index"
   ]
  },
  {
   "cell_type": "code",
   "execution_count": 5,
   "metadata": {},
   "outputs": [],
   "source": [
    "# for x in df.index:\n",
    "#     print(df.loc[x,'Ticker'])"
   ]
  },
  {
   "cell_type": "code",
   "execution_count": 6,
   "metadata": {},
   "outputs": [],
   "source": [
    "app = Dash(__name__)\n",
    "\n",
    "app.layout = html.Div([\n",
    "    dcc.Dropdown(\n",
    "        id='dropdown_top',\n",
    "        options=[{'label': i, 'value': i} for i in df.index],\n",
    "        value='Nifty 50'\n",
    "    ),\n",
    "    dcc.Graph(id='Candle_chart_top'),\n",
    "    dcc.Dropdown(\n",
    "        id='dropdown_bottom',\n",
    "        options=[{'label': i, 'value': i} for i in df.index],\n",
    "        value='Sensex 30'\n",
    "    ),\n",
    "    dcc.Graph(id='Candle_chart_bottom'),\n",
    "])"
   ]
  },
  {
   "cell_type": "code",
   "execution_count": 7,
   "metadata": {},
   "outputs": [],
   "source": [
    "@app.callback(\n",
    "    Output('Candle_chart_top','figure'),\n",
    "    [Input('dropdown_top','value')])\n",
    "    # [Input('dropdown','value'),Input()])\n",
    "def update_scrip(val):\n",
    "\n",
    "    scrip = yfinance.Ticker(df.loc[val,'Ticker'])\n",
    "    df_scrip = scrip.history(period='1d', interval='5m',rounding=True)\n",
    "    \n",
    "    fig = go.Figure()\n",
    "    fig.add_trace(go.Candlestick(x= df_scrip.index, open=df_scrip['Open'], high=df_scrip['High'], low=df_scrip['Low'], close=df_scrip['Close']))\n",
    "    fig.update_layout(template='plotly_white')\n",
    "    fig.update_layout(title=val)\n",
    "    fig.update_layout(xaxis_rangeslider_visible=False)\n",
    "    fig.update_layout(xaxis = dict(tickmode = 'linear', tick0 =df_scrip.index[0], dtick =30*60*1000))\n",
    "    return fig\n",
    "\n",
    "@app.callback(\n",
    "    Output('Candle_chart_bottom','figure'),\n",
    "    [Input('dropdown_bottom','value')])\n",
    "    # [Input('dropdown','value'),Input()])\n",
    "def update_scrip(val):\n",
    "\n",
    "    scrip = yfinance.Ticker(df.loc[val,'Ticker'])\n",
    "    df_scrip = scrip.history(period='1d', interval='5m',rounding=True)\n",
    "    \n",
    "    fig = go.Figure()\n",
    "    fig.add_trace(go.Candlestick(x= df_scrip.index, open=df_scrip['Open'], high=df_scrip['High'], low=df_scrip['Low'], close=df_scrip['Close']))\n",
    "    fig.update_layout(template='plotly_white')\n",
    "    fig.update_layout(title=val)\n",
    "    fig.update_layout(xaxis_rangeslider_visible=False)\n",
    "    fig.update_layout(xaxis = dict(tickmode = 'linear', tick0 =df_scrip.index[0], dtick =30*60*1000))\n",
    "    return fig\n"
   ]
  },
  {
   "cell_type": "code",
   "execution_count": 8,
   "metadata": {},
   "outputs": [
    {
     "name": "stdout",
     "output_type": "stream",
     "text": [
      "Dash is running on http://127.0.0.1:8050/\n",
      "\n",
      " * Serving Flask app '__main__' (lazy loading)\n",
      " * Environment: production\n",
      "\u001b[31m   WARNING: This is a development server. Do not use it in a production deployment.\u001b[0m\n",
      "\u001b[2m   Use a production WSGI server instead.\u001b[0m\n",
      " * Debug mode: off\n"
     ]
    },
    {
     "name": "stderr",
     "output_type": "stream",
     "text": [
      " * Running on http://127.0.0.1:8050/ (Press CTRL+C to quit)\n"
     ]
    }
   ],
   "source": [
    "if __name__ == '__main__':\n",
    "    app.run_server()"
   ]
  },
  {
   "cell_type": "code",
   "execution_count": null,
   "metadata": {},
   "outputs": [],
   "source": [
    "# scrip = yfinance.Ticker('FSL.NS')\n",
    "# df_scrip = scrip.history(period='1d', interval='5m',rounding=True)\n",
    "# df_scrip.head()\n",
    "# fig = go.Figure()\n",
    "# fig.add_trace(go.Candlestick(x= df_scrip.index, open=df_scrip['Open'], high=df_scrip['High'], low=df_scrip['Low'], close=df_scrip['Close']))\n",
    "# fig.update_layout(title='val')\n",
    "# fig.show()"
   ]
  }
 ],
 "metadata": {
  "interpreter": {
   "hash": "6e1434c98916a21c7e956c6bbcaa09b72322b2a48758cf786c4dc7ad932dd14d"
  },
  "kernelspec": {
   "display_name": "Python 3.9.9 64-bit",
   "language": "python",
   "name": "python3"
  },
  "language_info": {
   "codemirror_mode": {
    "name": "ipython",
    "version": 3
   },
   "file_extension": ".py",
   "mimetype": "text/x-python",
   "name": "python",
   "nbconvert_exporter": "python",
   "pygments_lexer": "ipython3",
   "version": "3.9.9"
  },
  "orig_nbformat": 4
 },
 "nbformat": 4,
 "nbformat_minor": 2
}
