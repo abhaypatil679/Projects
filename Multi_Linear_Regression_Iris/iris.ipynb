{
 "cells": [
  {
   "cell_type": "code",
   "execution_count": 75,
   "metadata": {},
   "outputs": [],
   "source": [
    "from sklearn.model_selection import train_test_split\n",
    "from sklearn.linear_model import LinearRegression\n",
    "\n",
    "import pandas as pd\n",
    "import numpy as np"
   ]
  },
  {
   "cell_type": "code",
   "execution_count": 76,
   "metadata": {},
   "outputs": [
    {
     "data": {
      "text/html": [
       "<div>\n",
       "<style scoped>\n",
       "    .dataframe tbody tr th:only-of-type {\n",
       "        vertical-align: middle;\n",
       "    }\n",
       "\n",
       "    .dataframe tbody tr th {\n",
       "        vertical-align: top;\n",
       "    }\n",
       "\n",
       "    .dataframe thead th {\n",
       "        text-align: right;\n",
       "    }\n",
       "</style>\n",
       "<table border=\"1\" class=\"dataframe\">\n",
       "  <thead>\n",
       "    <tr style=\"text-align: right;\">\n",
       "      <th></th>\n",
       "      <th>sepal_length</th>\n",
       "      <th>sepal_width</th>\n",
       "      <th>petal_length</th>\n",
       "      <th>petal_width</th>\n",
       "      <th>class</th>\n",
       "    </tr>\n",
       "  </thead>\n",
       "  <tbody>\n",
       "    <tr>\n",
       "      <th>0</th>\n",
       "      <td>5.1</td>\n",
       "      <td>3.5</td>\n",
       "      <td>1.4</td>\n",
       "      <td>0.2</td>\n",
       "      <td>Iris-setosa</td>\n",
       "    </tr>\n",
       "    <tr>\n",
       "      <th>1</th>\n",
       "      <td>4.9</td>\n",
       "      <td>3.0</td>\n",
       "      <td>1.4</td>\n",
       "      <td>0.2</td>\n",
       "      <td>Iris-setosa</td>\n",
       "    </tr>\n",
       "    <tr>\n",
       "      <th>2</th>\n",
       "      <td>4.7</td>\n",
       "      <td>3.2</td>\n",
       "      <td>1.3</td>\n",
       "      <td>0.2</td>\n",
       "      <td>Iris-setosa</td>\n",
       "    </tr>\n",
       "    <tr>\n",
       "      <th>3</th>\n",
       "      <td>4.6</td>\n",
       "      <td>3.1</td>\n",
       "      <td>1.5</td>\n",
       "      <td>0.2</td>\n",
       "      <td>Iris-setosa</td>\n",
       "    </tr>\n",
       "    <tr>\n",
       "      <th>4</th>\n",
       "      <td>5.0</td>\n",
       "      <td>3.6</td>\n",
       "      <td>1.4</td>\n",
       "      <td>0.2</td>\n",
       "      <td>Iris-setosa</td>\n",
       "    </tr>\n",
       "  </tbody>\n",
       "</table>\n",
       "</div>"
      ],
      "text/plain": [
       "   sepal_length  sepal_width  petal_length  petal_width        class\n",
       "0           5.1          3.5           1.4          0.2  Iris-setosa\n",
       "1           4.9          3.0           1.4          0.2  Iris-setosa\n",
       "2           4.7          3.2           1.3          0.2  Iris-setosa\n",
       "3           4.6          3.1           1.5          0.2  Iris-setosa\n",
       "4           5.0          3.6           1.4          0.2  Iris-setosa"
      ]
     },
     "execution_count": 76,
     "metadata": {},
     "output_type": "execute_result"
    }
   ],
   "source": [
    "df = pd.read_csv('./Data/iris.csv')\n",
    "df.head()"
   ]
  },
  {
   "cell_type": "code",
   "execution_count": 77,
   "metadata": {},
   "outputs": [
    {
     "data": {
      "text/plain": [
       "0       0\n",
       "1       0\n",
       "2       0\n",
       "3       0\n",
       "4       0\n",
       "       ..\n",
       "145    10\n",
       "146    10\n",
       "147    10\n",
       "148    10\n",
       "149    10\n",
       "Length: 150, dtype: int8"
      ]
     },
     "execution_count": 77,
     "metadata": {},
     "output_type": "execute_result"
    }
   ],
   "source": [
    "df['class'] = df['class'].astype('category')\n",
    "df['class_code'] = Y_data = df['class'].cat.codes\n",
    "\n",
    "X_data = df.drop(columns=['class','class_code'] , axis=1)\n",
    "Y_data = Y_data * 5\n",
    "Y_data"
   ]
  },
  {
   "cell_type": "code",
   "execution_count": 78,
   "metadata": {},
   "outputs": [],
   "source": [
    "lm= LinearRegression()\n",
    "d = []\n",
    "for _ in range(20):\n",
    "    x_train, x_test ,y_train, y_test = train_test_split(X_data,Y_data,test_size=0.2)\n",
    "\n",
    "    lm.fit(x_train,y_train)\n",
    "    coeffs = lm.coef_\n",
    "    new_coeffs = np.append(coeffs, lm.intercept_)\n",
    "    d.append(new_coeffs)\n",
    "    "
   ]
  },
  {
   "cell_type": "code",
   "execution_count": 79,
   "metadata": {},
   "outputs": [
    {
     "data": {
      "text/html": [
       "<div>\n",
       "<style scoped>\n",
       "    .dataframe tbody tr th:only-of-type {\n",
       "        vertical-align: middle;\n",
       "    }\n",
       "\n",
       "    .dataframe tbody tr th {\n",
       "        vertical-align: top;\n",
       "    }\n",
       "\n",
       "    .dataframe thead th {\n",
       "        text-align: right;\n",
       "    }\n",
       "</style>\n",
       "<table border=\"1\" class=\"dataframe\">\n",
       "  <thead>\n",
       "    <tr style=\"text-align: right;\">\n",
       "      <th></th>\n",
       "      <th>0</th>\n",
       "      <th>1</th>\n",
       "      <th>2</th>\n",
       "      <th>3</th>\n",
       "      <th>4</th>\n",
       "    </tr>\n",
       "  </thead>\n",
       "  <tbody>\n",
       "    <tr>\n",
       "      <th>0</th>\n",
       "      <td>-0.071846</td>\n",
       "      <td>-0.742916</td>\n",
       "      <td>0.657965</td>\n",
       "      <td>3.607336</td>\n",
       "      <td>0.897821</td>\n",
       "    </tr>\n",
       "    <tr>\n",
       "      <th>1</th>\n",
       "      <td>-0.277155</td>\n",
       "      <td>-0.344396</td>\n",
       "      <td>0.817080</td>\n",
       "      <td>3.461962</td>\n",
       "      <td>0.365031</td>\n",
       "    </tr>\n",
       "    <tr>\n",
       "      <th>2</th>\n",
       "      <td>-0.471356</td>\n",
       "      <td>-0.406610</td>\n",
       "      <td>0.906881</td>\n",
       "      <td>3.408791</td>\n",
       "      <td>1.448685</td>\n",
       "    </tr>\n",
       "    <tr>\n",
       "      <th>3</th>\n",
       "      <td>-0.047165</td>\n",
       "      <td>-0.593353</td>\n",
       "      <td>0.833562</td>\n",
       "      <td>3.175951</td>\n",
       "      <td>0.088290</td>\n",
       "    </tr>\n",
       "    <tr>\n",
       "      <th>4</th>\n",
       "      <td>-0.329961</td>\n",
       "      <td>-0.591008</td>\n",
       "      <td>0.637345</td>\n",
       "      <td>3.849991</td>\n",
       "      <td>1.644593</td>\n",
       "    </tr>\n",
       "    <tr>\n",
       "      <th>5</th>\n",
       "      <td>-0.396563</td>\n",
       "      <td>-0.454075</td>\n",
       "      <td>0.812551</td>\n",
       "      <td>3.571645</td>\n",
       "      <td>1.387778</td>\n",
       "    </tr>\n",
       "    <tr>\n",
       "      <th>6</th>\n",
       "      <td>-0.384092</td>\n",
       "      <td>-0.378188</td>\n",
       "      <td>0.873115</td>\n",
       "      <td>3.483923</td>\n",
       "      <td>0.934064</td>\n",
       "    </tr>\n",
       "    <tr>\n",
       "      <th>7</th>\n",
       "      <td>-0.698178</td>\n",
       "      <td>-0.074562</td>\n",
       "      <td>1.248578</td>\n",
       "      <td>2.968191</td>\n",
       "      <td>1.008960</td>\n",
       "    </tr>\n",
       "    <tr>\n",
       "      <th>8</th>\n",
       "      <td>-0.450433</td>\n",
       "      <td>-0.113127</td>\n",
       "      <td>0.920835</td>\n",
       "      <td>3.486367</td>\n",
       "      <td>0.286234</td>\n",
       "    </tr>\n",
       "    <tr>\n",
       "      <th>9</th>\n",
       "      <td>-0.561632</td>\n",
       "      <td>-0.137650</td>\n",
       "      <td>1.169011</td>\n",
       "      <td>3.085444</td>\n",
       "      <td>0.672940</td>\n",
       "    </tr>\n",
       "    <tr>\n",
       "      <th>10</th>\n",
       "      <td>-0.488681</td>\n",
       "      <td>-0.228298</td>\n",
       "      <td>1.120153</td>\n",
       "      <td>3.008547</td>\n",
       "      <td>0.762345</td>\n",
       "    </tr>\n",
       "    <tr>\n",
       "      <th>11</th>\n",
       "      <td>-0.440528</td>\n",
       "      <td>-0.070459</td>\n",
       "      <td>1.213731</td>\n",
       "      <td>2.773811</td>\n",
       "      <td>-0.085895</td>\n",
       "    </tr>\n",
       "    <tr>\n",
       "      <th>12</th>\n",
       "      <td>-0.254301</td>\n",
       "      <td>-0.432736</td>\n",
       "      <td>0.787683</td>\n",
       "      <td>3.542468</td>\n",
       "      <td>0.592538</td>\n",
       "    </tr>\n",
       "    <tr>\n",
       "      <th>13</th>\n",
       "      <td>-0.777089</td>\n",
       "      <td>-0.046347</td>\n",
       "      <td>1.323606</td>\n",
       "      <td>2.966946</td>\n",
       "      <td>1.241588</td>\n",
       "    </tr>\n",
       "    <tr>\n",
       "      <th>14</th>\n",
       "      <td>-0.620487</td>\n",
       "      <td>-0.248619</td>\n",
       "      <td>1.165975</td>\n",
       "      <td>3.008618</td>\n",
       "      <td>1.419112</td>\n",
       "    </tr>\n",
       "    <tr>\n",
       "      <th>15</th>\n",
       "      <td>-0.611992</td>\n",
       "      <td>-0.214254</td>\n",
       "      <td>1.211965</td>\n",
       "      <td>2.917732</td>\n",
       "      <td>1.200361</td>\n",
       "    </tr>\n",
       "    <tr>\n",
       "      <th>16</th>\n",
       "      <td>-0.376314</td>\n",
       "      <td>-0.355859</td>\n",
       "      <td>0.951655</td>\n",
       "      <td>3.348901</td>\n",
       "      <td>0.706242</td>\n",
       "    </tr>\n",
       "    <tr>\n",
       "      <th>17</th>\n",
       "      <td>-0.736703</td>\n",
       "      <td>-0.090677</td>\n",
       "      <td>1.310577</td>\n",
       "      <td>2.921803</td>\n",
       "      <td>1.265468</td>\n",
       "    </tr>\n",
       "    <tr>\n",
       "      <th>18</th>\n",
       "      <td>-0.594510</td>\n",
       "      <td>-0.161872</td>\n",
       "      <td>0.997498</td>\n",
       "      <td>3.387094</td>\n",
       "      <td>1.151811</td>\n",
       "    </tr>\n",
       "    <tr>\n",
       "      <th>19</th>\n",
       "      <td>-0.446821</td>\n",
       "      <td>-0.328273</td>\n",
       "      <td>1.167589</td>\n",
       "      <td>2.877938</td>\n",
       "      <td>0.720494</td>\n",
       "    </tr>\n",
       "  </tbody>\n",
       "</table>\n",
       "</div>"
      ],
      "text/plain": [
       "           0         1         2         3         4\n",
       "0  -0.071846 -0.742916  0.657965  3.607336  0.897821\n",
       "1  -0.277155 -0.344396  0.817080  3.461962  0.365031\n",
       "2  -0.471356 -0.406610  0.906881  3.408791  1.448685\n",
       "3  -0.047165 -0.593353  0.833562  3.175951  0.088290\n",
       "4  -0.329961 -0.591008  0.637345  3.849991  1.644593\n",
       "5  -0.396563 -0.454075  0.812551  3.571645  1.387778\n",
       "6  -0.384092 -0.378188  0.873115  3.483923  0.934064\n",
       "7  -0.698178 -0.074562  1.248578  2.968191  1.008960\n",
       "8  -0.450433 -0.113127  0.920835  3.486367  0.286234\n",
       "9  -0.561632 -0.137650  1.169011  3.085444  0.672940\n",
       "10 -0.488681 -0.228298  1.120153  3.008547  0.762345\n",
       "11 -0.440528 -0.070459  1.213731  2.773811 -0.085895\n",
       "12 -0.254301 -0.432736  0.787683  3.542468  0.592538\n",
       "13 -0.777089 -0.046347  1.323606  2.966946  1.241588\n",
       "14 -0.620487 -0.248619  1.165975  3.008618  1.419112\n",
       "15 -0.611992 -0.214254  1.211965  2.917732  1.200361\n",
       "16 -0.376314 -0.355859  0.951655  3.348901  0.706242\n",
       "17 -0.736703 -0.090677  1.310577  2.921803  1.265468\n",
       "18 -0.594510 -0.161872  0.997498  3.387094  1.151811\n",
       "19 -0.446821 -0.328273  1.167589  2.877938  0.720494"
      ]
     },
     "execution_count": 79,
     "metadata": {},
     "output_type": "execute_result"
    }
   ],
   "source": [
    "df3 = pd.DataFrame(d)\n",
    "df3"
   ]
  },
  {
   "cell_type": "code",
   "execution_count": 80,
   "metadata": {},
   "outputs": [
    {
     "data": {
      "text/plain": [
       "0   -0.451790\n",
       "1   -0.300664\n",
       "2    1.006368\n",
       "3    3.242673\n",
       "4    0.885423\n",
       "dtype: float64"
      ]
     },
     "execution_count": 80,
     "metadata": {},
     "output_type": "execute_result"
    }
   ],
   "source": [
    "men = df3.mean()\n",
    "men"
   ]
  },
  {
   "cell_type": "code",
   "execution_count": 81,
   "metadata": {},
   "outputs": [
    {
     "data": {
      "text/plain": [
       "0.9384509249530794"
      ]
     },
     "execution_count": 81,
     "metadata": {},
     "output_type": "execute_result"
    }
   ],
   "source": [
    "lm.score(x_test,y_test)"
   ]
  },
  {
   "cell_type": "code",
   "execution_count": 82,
   "metadata": {},
   "outputs": [
    {
     "data": {
      "text/plain": [
       "9.171863106310918"
      ]
     },
     "execution_count": 82,
     "metadata": {},
     "output_type": "execute_result"
    }
   ],
   "source": [
    "df_setosa_0 = df[df['class_code'] == 2]\n",
    "pred = df_setosa_0.sepal_length * men[0] + df_setosa_0.sepal_width * men[1] + df_setosa_0.petal_length * men[2] +df_setosa_0.petal_width * men[3] + men[4]\n",
    "\n",
    "df_setosa_0\n",
    "pred.mean()\n"
   ]
  }
 ],
 "metadata": {
  "interpreter": {
   "hash": "6e1434c98916a21c7e956c6bbcaa09b72322b2a48758cf786c4dc7ad932dd14d"
  },
  "kernelspec": {
   "display_name": "Python 3.9.9 64-bit",
   "language": "python",
   "name": "python3"
  },
  "language_info": {
   "codemirror_mode": {
    "name": "ipython",
    "version": 3
   },
   "file_extension": ".py",
   "mimetype": "text/x-python",
   "name": "python",
   "nbconvert_exporter": "python",
   "pygments_lexer": "ipython3",
   "version": "3.9.9"
  },
  "orig_nbformat": 4
 },
 "nbformat": 4,
 "nbformat_minor": 2
}
