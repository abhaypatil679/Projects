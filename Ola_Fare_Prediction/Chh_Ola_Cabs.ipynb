{
  "cells": [
    {
      "cell_type": "markdown",
      "metadata": {
        "colab_type": "text",
        "id": "RI1UA-30TAKh"
      },
      "source": [
        "# **IMPORTING LIBRARIES**"
      ]
    },
    {
      "cell_type": "code",
      "execution_count": null,
      "metadata": {
        "colab": {},
        "colab_type": "code",
        "id": "t-1puTvw9Owz"
      },
      "outputs": [],
      "source": [
        "import numpy as np\n",
        "import pandas as pd\n",
        "import seaborn as sns\n",
        "import matplotlib.pyplot as plt\n",
        "import datetime as dt\n",
        "import sklearn.metrics\n",
        "from sklearn.model_selection import train_test_split, GridSearchCV\n",
        "from sklearn.ensemble import RandomForestRegressor, AdaBoostRegressor, GradientBoostingRegressor,ExtraTreesRegressor\n",
        "from sklearn.model_selection import learning_curve\n",
        "from sklearn.model_selection import ShuffleSplit\n",
        "import warnings\n",
        "warnings.simplefilter('ignore')"
      ]
    },
    {
      "cell_type": "markdown",
      "metadata": {
        "colab_type": "text",
        "id": "u1EJxLm7T0h_"
      },
      "source": [
        "# **IMPORTING DATASET**"
      ]
    },
    {
      "cell_type": "code",
      "execution_count": null,
      "metadata": {
        "colab": {},
        "colab_type": "code",
        "id": "ZoAVL5Xb9Ow8"
      },
      "outputs": [],
      "source": [
        "data=pd.read_csv(\"/content/drive/My Drive/train.csv\") #train set\n",
        "test=pd.read_csv(\"/content/drive/My Drive/train.csv\") #test set"
      ]
    },
    {
      "cell_type": "code",
      "execution_count": 9,
      "metadata": {
        "colab": {
          "base_uri": "https://localhost:8080/",
          "height": 36
        },
        "colab_type": "code",
        "id": "IaVB48q-9OxD",
        "outputId": "23109b56-b7b0-4c37-c222-29946f4f2d70"
      },
      "outputs": [
        {
          "data": {
            "text/plain": [
              "(1048575, 17)"
            ]
          },
          "execution_count": 9,
          "metadata": {
            "tags": []
          },
          "output_type": "execute_result"
        }
      ],
      "source": [
        "data.head() \n",
        "data.shape"
      ]
    },
    {
      "cell_type": "code",
      "execution_count": 10,
      "metadata": {
        "colab": {
          "base_uri": "https://localhost:8080/",
          "height": 366
        },
        "colab_type": "code",
        "id": "-0Xly5GF9OxP",
        "outputId": "585e98c9-fc40-4403-acee-63542f22cc43"
      },
      "outputs": [
        {
          "data": {
            "text/plain": [
              "ID                    0\n",
              "vendor_id             0\n",
              "pickup_loc            1\n",
              "drop_loc              1\n",
              "driver_tip            2\n",
              "mta_tax               1\n",
              "distance              1\n",
              "pickup_time           1\n",
              "drop_time             1\n",
              "num_passengers        1\n",
              "toll_amount           2\n",
              "payment_method        1\n",
              "rate_code             1\n",
              "stored_flag           1\n",
              "extra_charges         1\n",
              "improvement_charge    2\n",
              "total_amount          2\n",
              "dtype: int64"
            ]
          },
          "execution_count": 10,
          "metadata": {
            "tags": []
          },
          "output_type": "execute_result"
        }
      ],
      "source": [
        "data.isnull().sum() #checking for null values"
      ]
    },
    {
      "cell_type": "markdown",
      "metadata": {
        "colab_type": "text",
        "id": "EkRsIrSDVIAt"
      },
      "source": [
        "# **PreProcessing**"
      ]
    },
    {
      "cell_type": "code",
      "execution_count": null,
      "metadata": {
        "colab": {},
        "colab_type": "code",
        "id": "y53sKDdT9OxU"
      },
      "outputs": [],
      "source": [
        "data['pickup_time']=pd.to_datetime(data['pickup_time'])\n",
        "data['drop_time']=pd.to_datetime(data['drop_time'])"
      ]
    },
    {
      "cell_type": "code",
      "execution_count": null,
      "metadata": {
        "colab": {},
        "colab_type": "code",
        "id": "cYuBCBOv9Oxe"
      },
      "outputs": [],
      "source": [
        "data['trip_duration']=data['drop_time']-data['pickup_time']"
      ]
    },
    {
      "cell_type": "code",
      "execution_count": null,
      "metadata": {
        "colab": {},
        "colab_type": "code",
        "id": "3X0le8No9Oxi"
      },
      "outputs": [],
      "source": [
        "time=pd.DatetimeIndex(data['trip_duration'])\n",
        "data['trip_duration']=time.hour*60+time.minute"
      ]
    },
    {
      "cell_type": "code",
      "execution_count": null,
      "metadata": {
        "colab": {},
        "colab_type": "code",
        "id": "HpHS-nJs9Oxn"
      },
      "outputs": [],
      "source": [
        "del data['pickup_time']\n",
        "del data['drop_time']\n",
        "del data['ID']\n",
        "del data['vendor_id']\n",
        "del data['drop_loc']\n",
        "del data['pickup_loc']\n",
        "del data['stored_flag']\n",
        "del data['mta_tax']\n",
        "del data['improvement_charge']"
      ]
    },
    {
      "cell_type": "code",
      "execution_count": null,
      "metadata": {
        "colab": {},
        "colab_type": "code",
        "id": "FZ0gAzP09Oxs"
      },
      "outputs": [],
      "source": [
        "data.dropna(inplace=True)"
      ]
    },
    {
      "cell_type": "code",
      "execution_count": 16,
      "metadata": {
        "colab": {
          "base_uri": "https://localhost:8080/",
          "height": 36
        },
        "colab_type": "code",
        "id": "OZWaCFfj9Oxx",
        "outputId": "cf882ac4-85c8-426b-e834-23601633764f"
      },
      "outputs": [
        {
          "data": {
            "text/plain": [
              "(1048573, 9)"
            ]
          },
          "execution_count": 16,
          "metadata": {
            "tags": []
          },
          "output_type": "execute_result"
        }
      ],
      "source": [
        "data.isnull().sum()\n",
        "data.shape"
      ]
    },
    {
      "cell_type": "code",
      "execution_count": null,
      "metadata": {
        "colab": {},
        "colab_type": "code",
        "id": "AWkLKyn99Ox2"
      },
      "outputs": [],
      "source": [
        "id_vec = np.array(test.loc[:,test.columns == 'ID'])\n"
      ]
    },
    {
      "cell_type": "code",
      "execution_count": null,
      "metadata": {
        "colab": {},
        "colab_type": "code",
        "id": "aVT3EFTp9Ox6"
      },
      "outputs": [],
      "source": [
        "y=data['total_amount']\n",
        "del data['total_amount']\n",
        "x=data"
      ]
    },
    {
      "cell_type": "markdown",
      "metadata": {
        "colab_type": "text",
        "id": "WjxEJ2bSVsad"
      },
      "source": [
        "# Building Model"
      ]
    },
    {
      "cell_type": "code",
      "execution_count": 19,
      "metadata": {
        "colab": {
          "base_uri": "https://localhost:8080/",
          "height": 36
        },
        "colab_type": "code",
        "id": "ZizPn5mZVYX5",
        "outputId": "02f89c27-fac5-454a-d327-86e7441f7e74"
      },
      "outputs": [
        {
          "data": {
            "text/plain": [
              "0.9412083827429485"
            ]
          },
          "execution_count": 19,
          "metadata": {
            "tags": []
          },
          "output_type": "execute_result"
        }
      ],
      "source": [
        "train_x,test_x,train_y,test_y=train_test_split(x,y,test_size=.3,random_state=42)\n",
        "model=RandomForestRegressor(random_state=42) #Random Forest Regressor\n",
        "model.fit(train_x,train_y)\n",
        "model.score(train_x,train_y)"
      ]
    },
    {
      "cell_type": "code",
      "execution_count": 20,
      "metadata": {
        "colab": {
          "base_uri": "https://localhost:8080/",
          "height": 36
        },
        "colab_type": "code",
        "id": "3eCKrT5t9Ox9",
        "outputId": "53839192-05e1-46e1-a6d8-9b518143fbc9"
      },
      "outputs": [
        {
          "data": {
            "text/plain": [
              "0.9006328326827558"
            ]
          },
          "execution_count": 20,
          "metadata": {
            "tags": []
          },
          "output_type": "execute_result"
        }
      ],
      "source": [
        "model.score(test_x,test_y)"
      ]
    },
    {
      "cell_type": "code",
      "execution_count": 21,
      "metadata": {
        "colab": {
          "base_uri": "https://localhost:8080/",
          "height": 191
        },
        "colab_type": "code",
        "id": "c87hs1Ed9OyC",
        "outputId": "3aeaafb8-3c0c-4ef6-b9ab-8056a28527d6"
      },
      "outputs": [
        {
          "data": {
            "text/plain": [
              "GradientBoostingRegressor(alpha=0.1, criterion='friedman_mse', init=None,\n",
              "                          learning_rate=0.1, loss='ls', max_depth=3,\n",
              "                          max_features=None, max_leaf_nodes=None,\n",
              "                          min_impurity_decrease=0.0, min_impurity_split=None,\n",
              "                          min_samples_leaf=1, min_samples_split=2,\n",
              "                          min_weight_fraction_leaf=0.0, n_estimators=100,\n",
              "                          n_iter_no_change=None, presort='auto',\n",
              "                          random_state=42, subsample=1.0, tol=0.0001,\n",
              "                          validation_fraction=0.1, verbose=0, warm_start=False)"
            ]
          },
          "execution_count": 21,
          "metadata": {
            "tags": []
          },
          "output_type": "execute_result"
        }
      ],
      "source": [
        "model1=GradientBoostingRegressor(alpha=0.1,max_depth=3,random_state=42) #Final model For prediction\n",
        "model1.fit(train_x,train_y)"
      ]
    },
    {
      "cell_type": "code",
      "execution_count": 22,
      "metadata": {
        "colab": {
          "base_uri": "https://localhost:8080/",
          "height": 36
        },
        "colab_type": "code",
        "id": "rrmndrH-9OyF",
        "outputId": "589018a5-5b78-40f2-8a46-c150348d08bf"
      },
      "outputs": [
        {
          "data": {
            "text/plain": [
              "0.8415652110398391"
            ]
          },
          "execution_count": 22,
          "metadata": {
            "tags": []
          },
          "output_type": "execute_result"
        }
      ],
      "source": [
        "model1.score(train_x,train_y)"
      ]
    },
    {
      "cell_type": "code",
      "execution_count": 23,
      "metadata": {
        "colab": {
          "base_uri": "https://localhost:8080/",
          "height": 36
        },
        "colab_type": "code",
        "id": "uteQ3XsQ9OyJ",
        "outputId": "340daca3-b935-4312-c3f2-253f04bcb481"
      },
      "outputs": [
        {
          "data": {
            "text/plain": [
              "0.9505131553615961"
            ]
          },
          "execution_count": 23,
          "metadata": {
            "tags": []
          },
          "output_type": "execute_result"
        }
      ],
      "source": [
        "model1.score(test_x,test_y)"
      ]
    },
    {
      "cell_type": "markdown",
      "metadata": {
        "colab_type": "text",
        "id": "KjNQSlMoWDc8"
      },
      "source": [
        "# **Tuning And Improving**"
      ]
    },
    {
      "cell_type": "code",
      "execution_count": null,
      "metadata": {
        "colab": {},
        "colab_type": "code",
        "id": "QHN2QmCG9OyO"
      },
      "outputs": [],
      "source": [
        "GBM=GradientBoostingRegressor(random_state=42)\n",
        "gb_param_grid = {'n_estimators' : [100,500],\n",
        "                'learning_rate': [0.1, 0.01],\n",
        "                 'max_depth': [3,8],\n",
        "                'max_features': [0.3, 0.1] \n",
        "                }\n",
        "gsGBM = GridSearchCV(GBM,param_grid = gb_param_grid, cv=5, scoring='neg_mean_squared_error', n_jobs= 4, verbose = 1)\n",
        "gsGBM.fit(train_x,train_y)\n",
        "\n",
        "GBM_best = gsGBM.best_estimator_"
      ]
    },
    {
      "cell_type": "code",
      "execution_count": null,
      "metadata": {
        "colab": {},
        "colab_type": "code",
        "id": "HN21UWxd9OyR"
      },
      "outputs": [],
      "source": [
        "GBM_best.score(train_x,train_y)"
      ]
    },
    {
      "cell_type": "code",
      "execution_count": null,
      "metadata": {
        "colab": {},
        "colab_type": "code",
        "id": "2LjXaeRt9OyV"
      },
      "outputs": [],
      "source": [
        "GBM_best.score(test_x,test_y)"
      ]
    },
    {
      "cell_type": "markdown",
      "metadata": {
        "colab_type": "text",
        "id": "XFE1SIQwWQWR"
      },
      "source": [
        "# Preparing Test Set for predictions"
      ]
    },
    {
      "cell_type": "code",
      "execution_count": 25,
      "metadata": {
        "colab": {
          "base_uri": "https://localhost:8080/",
          "height": 366
        },
        "colab_type": "code",
        "id": "3x04puV79OyZ",
        "outputId": "fc3bdd92-5da5-4c67-a2a5-a4c181a67142"
      },
      "outputs": [
        {
          "data": {
            "text/plain": [
              "ID                    0\n",
              "vendor_id             0\n",
              "pickup_loc            1\n",
              "drop_loc              1\n",
              "driver_tip            2\n",
              "mta_tax               1\n",
              "distance              1\n",
              "pickup_time           1\n",
              "drop_time             1\n",
              "num_passengers        1\n",
              "toll_amount           2\n",
              "payment_method        1\n",
              "rate_code             1\n",
              "stored_flag           1\n",
              "extra_charges         1\n",
              "improvement_charge    2\n",
              "total_amount          2\n",
              "dtype: int64"
            ]
          },
          "execution_count": 25,
          "metadata": {
            "tags": []
          },
          "output_type": "execute_result"
        }
      ],
      "source": [
        "test.isnull().sum()"
      ]
    },
    {
      "cell_type": "code",
      "execution_count": null,
      "metadata": {
        "colab": {},
        "colab_type": "code",
        "id": "e_KSRlEk9Oyd"
      },
      "outputs": [],
      "source": [
        "test['pickup_time']=pd.to_datetime(test['pickup_time'])\n",
        "test['drop_time']=pd.to_datetime(test['drop_time'])"
      ]
    },
    {
      "cell_type": "code",
      "execution_count": null,
      "metadata": {
        "colab": {},
        "colab_type": "code",
        "id": "i2Jut5gI9Oyh"
      },
      "outputs": [],
      "source": [
        "test['trip_duration']=test['drop_time']-test['pickup_time']"
      ]
    },
    {
      "cell_type": "code",
      "execution_count": null,
      "metadata": {
        "colab": {},
        "colab_type": "code",
        "id": "TKPWe3Zo9Oyj"
      },
      "outputs": [],
      "source": [
        "time=pd.DatetimeIndex(test['trip_duration'])\n",
        "test['trip_duration']=time.hour*60+time.minute"
      ]
    },
    {
      "cell_type": "code",
      "execution_count": null,
      "metadata": {
        "colab": {},
        "colab_type": "code",
        "id": "SowMXb7f9Oyn"
      },
      "outputs": [],
      "source": [
        "del test['pickup_time']\n",
        "del test['drop_time']\n",
        "del test['ID']\n",
        "del test['vendor_id']\n",
        "del test['drop_loc']\n",
        "del test['pickup_loc']\n",
        "del test['stored_flag']\n",
        "del test['mta_tax']\n",
        "del test['improvement_charge']"
      ]
    },
    {
      "cell_type": "code",
      "execution_count": null,
      "metadata": {
        "colab": {},
        "colab_type": "code",
        "id": "8ytn_0pC9Oyp",
        "outputId": "2ed98c1a-7262-483b-b228-561fa9d78cfc"
      },
      "outputs": [
        {
          "data": {
            "text/plain": [
              "(154235, 8)"
            ]
          },
          "execution_count": 238,
          "metadata": {
            "tags": []
          },
          "output_type": "execute_result"
        }
      ],
      "source": [
        "test.shape"
      ]
    },
    {
      "cell_type": "markdown",
      "metadata": {
        "colab_type": "text",
        "id": "QlFbZIT0Wb63"
      },
      "source": [
        "# **Predictions**"
      ]
    },
    {
      "cell_type": "code",
      "execution_count": null,
      "metadata": {
        "colab": {},
        "colab_type": "code",
        "id": "jCTmqQq59Oyu"
      },
      "outputs": [],
      "source": [
        "predict = model1.predict(test)\n",
        "# predict = predict.reshape(predict.shape[0], 1)\n",
        "# predict = np.concatenate([id_vec, predict], axis=1)\n",
        "# predict = pd.DataFrame(data=predict, columns=['ID', 'total_amount'])\n",
        "# predict.to_csv(\"answer.csv\", index=False, header=True)"
      ]
    },
    {
      "cell_type": "code",
      "execution_count": null,
      "metadata": {
        "colab": {},
        "colab_type": "code",
        "id": "Rhw27g699Oyw",
        "outputId": "53dccbb0-e4f7-4418-9bb5-1e7713dfde52"
      },
      "outputs": [
        {
          "name": "stdout",
          "output_type": "stream",
          "text": [
            "[ 7.11729064 14.57231341 16.56904596 ...  9.08122584 14.45557539\n",
            " 16.07017625]\n"
          ]
        }
      ],
      "source": [
        "print(predict)"
      ]
    },
    {
      "cell_type": "code",
      "execution_count": null,
      "metadata": {
        "colab": {},
        "colab_type": "code",
        "id": "mypjTRrK9Oyz"
      },
      "outputs": [],
      "source": [
        "predict = pd.DataFrame(data=predict)\n",
        "predict.to_csv(\"answer.csv\", index=False, header=True)"
      ]
    },
    {
      "cell_type": "code",
      "execution_count": null,
      "metadata": {
        "colab": {},
        "colab_type": "code",
        "id": "AcQtMAyC9Oy3"
      },
      "outputs": [],
      "source": [
        "res = model.predict(np.array([[]]))\n",
        "print(res)"
      ]
    }
  ],
  "metadata": {
    "accelerator": "GPU",
    "colab": {
      "name": "Chh-Ola Cabs.ipynb",
      "provenance": [],
      "version": "0.3.2"
    },
    "kernelspec": {
      "display_name": "Python 3",
      "name": "python3"
    },
    "language_info": {
      "codemirror_mode": {
        "name": "ipython",
        "version": 3
      },
      "file_extension": ".py",
      "mimetype": "text/x-python",
      "name": "python",
      "nbconvert_exporter": "python",
      "pygments_lexer": "ipython3",
      "version": "3.6.3"
    }
  },
  "nbformat": 4,
  "nbformat_minor": 0
}
