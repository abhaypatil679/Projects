{
 "cells": [
  {
   "cell_type": "code",
   "execution_count": 1,
   "metadata": {},
   "outputs": [],
   "source": [
    "# imports\n",
    "from bs4 import BeautifulSoup\n",
    "from pandas import DataFrame\n",
    "\n",
    "from selenium import webdriver\n",
    "from selenium.webdriver.common.by import By\n",
    "from selenium.webdriver.common.keys import Keys\n",
    "\n",
    "from time import sleep\n",
    "from json import load"
   ]
  },
  {
   "cell_type": "code",
   "execution_count": 2,
   "metadata": {},
   "outputs": [],
   "source": [
    "# laoding the companpy names.\n",
    "with open('./nifty_500_symbols.json','rt') as json_file:\n",
    "    nifty_500 = load(json_file)"
   ]
  },
  {
   "cell_type": "code",
   "execution_count": null,
   "metadata": {},
   "outputs": [],
   "source": [
    "# nifty_500.keys()"
   ]
  },
  {
   "cell_type": "code",
   "execution_count": 3,
   "metadata": {},
   "outputs": [],
   "source": [
    "# starting a browser session\n",
    "options = webdriver.EdgeOptions()\n",
    "options.add_experimental_option('excludeSwitches', ['enable-logging'])\n",
    "browser = webdriver.Edge(options=options)\n",
    "\n",
    "browser.get('https://trendlyne.com/features/')"
   ]
  },
  {
   "cell_type": "code",
   "execution_count": 4,
   "metadata": {},
   "outputs": [],
   "source": [
    "# first load\n",
    "# close popups\n",
    "popup = browser.find_element(By.CLASS_NAME, value='close')\n",
    "popup.click()"
   ]
  },
  {
   "cell_type": "code",
   "execution_count": 5,
   "metadata": {},
   "outputs": [],
   "source": [
    "def get_table_markup(commany_symbol):\n",
    "    # select fundamentals from dropdown\n",
    "    dropdown = browser.find_element(By.CLASS_NAME, value='input-group-btn')\n",
    "    dropdown.click()\n",
    "    fundamentals_link = browser.find_element(By.LINK_TEXT, 'Fundamentals')\n",
    "    fundamentals_link.click()\n",
    "\n",
    "    # search the scrips for fundamentals\n",
    "    search_box = browser.find_element(By.NAME,value='search')\n",
    "    search_box.clear()\n",
    "    search_box.click()\n",
    "    search_box.send_keys(commany_symbol)\n",
    "    sleep(2)\n",
    "    \n",
    "    #NEW CODE\n",
    "    search_box.send_keys(Keys.ARROW_DOWN)\n",
    "    matches = browser.find_element(By.CLASS_NAME,value='ui-menu')\n",
    "    \n",
    "    search_box.send_keys(Keys.ENTER)\n",
    "    \n",
    "    # after being on fundamentals page\n",
    "    sleep(3)\n",
    "    table = browser.find_element(By.CLASS_NAME,value='rt-table')\n",
    "    table_html = table.get_attribute('outerHTML')\n",
    "    return table_html\n",
    "\n",
    "def markup_to_df(markup,company_name):\n",
    "    soup = BeautifulSoup(markup=markup,features='lxml')\n",
    "    # scraping table headers\n",
    "    headers = soup.find_all('span', {'class': 'text-xs-center'})\n",
    "    cols = [header.text for header in headers]\n",
    "    cols.remove('Graph')\n",
    "    \n",
    "    # scraping actual table data.\n",
    "    rows = []\n",
    "    new_row = []\n",
    "    spans = soup.find_all('div', {'class': 'rt-td'})\n",
    "    for span in spans:\n",
    "        idx = span.text\n",
    "        striped_idx = idx.strip()\n",
    "        if striped_idx:\n",
    "            if striped_idx[0].isalpha():\n",
    "                rows.append(new_row)\n",
    "                new_row = [striped_idx]\n",
    "            else:\n",
    "                striped_idx_rem_comma = striped_idx.replace(',', '')\n",
    "                new_row.append(striped_idx_rem_comma)\n",
    "            if striped_idx == 'Net profit TTM Cr':\n",
    "                break\n",
    "\n",
    "    # skipping first row being empty.\n",
    "    table_data = rows[1:]\n",
    "\n",
    "    # merging headers and data.\n",
    "    df = DataFrame(table_data, columns=cols)\n",
    "\n",
    "    # saving to csv file.\n",
    "    df.to_csv(f'./nifty_500_scraped_data_raw/{company_name}.csv',index=False)"
   ]
  },
  {
   "cell_type": "code",
   "execution_count": 7,
   "metadata": {},
   "outputs": [],
   "source": [
    "# sample_companies = {\"Adani Ports and Special Economic Zone Ltd.\": \"ADANIPORTS\",\n",
    "#                     \"Aditya Birla Capital Ltd.\": \"ABCAPITAL\",\n",
    "#                     \"Aditya Birla Fashion and Retail Ltd.\": \"ABFRL\",\n",
    "#                     \"Aditya Birla Sun Life AMC Ltd.\": \"ABSLAMC\",\n",
    "#                     \"Asian Paints Ltd.\": \"ASIANPAINT\", }\n",
    "# sample_companies = {\"Trident Ltd.\": \"TRIDENT LTD\",\n",
    "#                     \"Container Corporation of India Ltd.\": \"CONCOR CORP\", }\n"
   ]
  },
  {
   "cell_type": "code",
   "execution_count": 10,
   "metadata": {},
   "outputs": [],
   "source": [
    "try:\n",
    "    for company_name,company_symbol in nifty_500.items():\n",
    "        table_markup = get_table_markup(company_symbol)\n",
    "        markup_to_df(table_markup,company_name)\n",
    "except Exception as e:\n",
    "    print(e)"
   ]
  }
 ],
 "metadata": {
  "kernelspec": {
   "display_name": "Python 3.9.9 64-bit",
   "language": "python",
   "name": "python3"
  },
  "language_info": {
   "codemirror_mode": {
    "name": "ipython",
    "version": 3
   },
   "file_extension": ".py",
   "mimetype": "text/x-python",
   "name": "python",
   "nbconvert_exporter": "python",
   "pygments_lexer": "ipython3",
   "version": "3.9.9 (tags/v3.9.9:ccb0e6a, Nov 15 2021, 18:08:50) [MSC v.1929 64 bit (AMD64)]"
  },
  "orig_nbformat": 4,
  "vscode": {
   "interpreter": {
    "hash": "6e1434c98916a21c7e956c6bbcaa09b72322b2a48758cf786c4dc7ad932dd14d"
   }
  }
 },
 "nbformat": 4,
 "nbformat_minor": 2
}
