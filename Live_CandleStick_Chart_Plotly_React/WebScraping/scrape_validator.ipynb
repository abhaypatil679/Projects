{
 "cells": [
  {
   "cell_type": "code",
   "execution_count": 1,
   "metadata": {},
   "outputs": [],
   "source": [
    "# imports\n",
    "from selenium import webdriver\n",
    "from selenium.webdriver.common.by import By\n",
    "from selenium.webdriver.common.keys import Keys\n",
    "\n",
    "from time import sleep\n",
    "from json import load"
   ]
  },
  {
   "cell_type": "code",
   "execution_count": 2,
   "metadata": {},
   "outputs": [],
   "source": [
    "# laoding the companpy names.\n",
    "with open('./nifty_500_symbols.json','rt') as json_file:\n",
    "    nifty_500 = load(json_file)"
   ]
  },
  {
   "cell_type": "code",
   "execution_count": 3,
   "metadata": {},
   "outputs": [],
   "source": [
    "# nifty_500.keys()"
   ]
  },
  {
   "cell_type": "code",
   "execution_count": 4,
   "metadata": {},
   "outputs": [],
   "source": [
    "# starting a browser session\n",
    "options = webdriver.EdgeOptions()\n",
    "options.add_experimental_option('excludeSwitches', ['enable-logging'])\n",
    "browser = webdriver.Edge(options=options)\n",
    "\n",
    "browser.get('https://trendlyne.com/features/')"
   ]
  },
  {
   "cell_type": "code",
   "execution_count": 5,
   "metadata": {},
   "outputs": [],
   "source": [
    "# first load\n",
    "# close popups\n",
    "popup = browser.find_element(By.CLASS_NAME, value='close')\n",
    "popup.click()"
   ]
  },
  {
   "cell_type": "code",
   "execution_count": 6,
   "metadata": {},
   "outputs": [],
   "source": [
    "def check_scrip_symbol(company_symbol):\n",
    "    # select fundamentals from dropdown\n",
    "    dropdown = browser.find_element(By.CLASS_NAME, value='input-group-btn')\n",
    "    dropdown.click()\n",
    "    fundamentals_link = browser.find_element(By.LINK_TEXT, 'Fundamentals')\n",
    "    fundamentals_link.click()\n",
    "\n",
    "    # search the scrips for fundamentals\n",
    "    search_box = browser.find_element(By.NAME,value='search')\n",
    "    search_box.clear()\n",
    "    search_box.click()\n",
    "    search_box.send_keys(company_symbol)\n",
    "    sleep(2)\n",
    "    \n",
    "    # get match results\n",
    "    matches = browser.find_elements(By.CLASS_NAME,value='ui-menu-item')\n",
    "    \n",
    "    # check if symbol matches with multiple companies\n",
    "    if len(matches) >1:\n",
    "        print(company_symbol)\n"
   ]
  },
  {
   "cell_type": "code",
   "execution_count": 7,
   "metadata": {},
   "outputs": [],
   "source": [
    "# sample_companies = {\"LARSEN AND TOUBRO\": \"LT\",\n",
    "#                     \"LARSEN AND TOUBRO INFOTECH\": \"LTI\", }"
   ]
  },
  {
   "cell_type": "code",
   "execution_count": 8,
   "metadata": {},
   "outputs": [
    {
     "name": "stdout",
     "output_type": "stream",
     "text": [
      "ABB\n",
      "ACC\n",
      "ABFRL\n",
      "AMBER\n",
      "ATUL\n",
      "BSE\n",
      "BEL\n",
      "BBTC\n",
      "CCL\n",
      "CUB\n",
      "CAMS\n",
      "CONCOR\n",
      "COROMANDEL\n",
      "DHANI\n",
      "EDELWEISS\n",
      "EQUITAS\n",
      "ERIS\n",
      "ESCORTS\n",
      "FACT\n",
      "FSL\n",
      "FORTIS\n",
      "GLAXO\n",
      "GLENMARK\n",
      "HATHWAY\n",
      "HAL\n",
      "HDFC\n",
      "ICICIBANK\n",
      "ISEC\n",
      "IDBI\n",
      "IDFC\n",
      "IIFL\n",
      "IRB\n",
      "ITC\n",
      "ITI\n",
      "IOC\n",
      "INDIGO\n",
      "JSL\n",
      "KEI\n",
      "KEC\n",
      "LTI\n",
      "LT\n",
      "LICI\n",
      "M&M\n",
      "MARICO\n",
      "MARUTI\n",
      "NCC\n",
      "NH\n",
      "OIL\n",
      "POWERGRID\n",
      "PRESTIGE\n",
      "PNB\n",
      "RITES\n",
      "RAIN\n",
      "RELIANCE\n",
      "RBA\n",
      "SIS\n",
      "SFL\n",
      "SCI\n",
      "SOBHA\n",
      "SAIL\n",
      "STAR\n",
      "SPARC\n",
      "SUZLON\n",
      "TITAN\n",
      "TRIDENT\n",
      "TRIVENI\n",
      "VIJAYA\n",
      "IDEA\n",
      "ZEEL\n"
     ]
    }
   ],
   "source": [
    "try:\n",
    "    for company_name,company_symbol in nifty_500.items():\n",
    "        table_markup = check_scrip_symbol(company_symbol)\n",
    "except Exception as e:\n",
    "    print(e)"
   ]
  }
 ],
 "metadata": {
  "kernelspec": {
   "display_name": "Python 3.9.9 64-bit",
   "language": "python",
   "name": "python3"
  },
  "language_info": {
   "codemirror_mode": {
    "name": "ipython",
    "version": 3
   },
   "file_extension": ".py",
   "mimetype": "text/x-python",
   "name": "python",
   "nbconvert_exporter": "python",
   "pygments_lexer": "ipython3",
   "version": "3.9.9 (tags/v3.9.9:ccb0e6a, Nov 15 2021, 18:08:50) [MSC v.1929 64 bit (AMD64)]"
  },
  "orig_nbformat": 4,
  "vscode": {
   "interpreter": {
    "hash": "6e1434c98916a21c7e956c6bbcaa09b72322b2a48758cf786c4dc7ad932dd14d"
   }
  }
 },
 "nbformat": 4,
 "nbformat_minor": 2
}
